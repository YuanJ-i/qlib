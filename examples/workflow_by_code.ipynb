{
  "cells": [
    {
      "cell_type": "markdown",
      "metadata": {
        "id": "view-in-github",
        "colab_type": "text"
      },
      "source": [
        "<a href=\"https://colab.research.google.com/github/YuanJ-i/qlib/blob/main/examples/workflow_by_code.ipynb\" target=\"_parent\"><img src=\"https://colab.research.google.com/assets/colab-badge.svg\" alt=\"Open In Colab\"/></a>"
      ]
    },
    {
      "cell_type": "markdown",
      "metadata": {
        "id": "q0ViAP0nGWnB"
      },
      "source": [
        "<a href=\"https://colab.research.google.com/github/microsoft/qlib/blob/main/examples/workflow_by_code.ipynb\" target=\"_parent\"><img src=\"https://colab.research.google.com/assets/colab-badge.svg\" alt=\"Open In Colab\"/></a>"
      ]
    },
    {
      "cell_type": "code",
      "execution_count": 3,
      "metadata": {
        "id": "GQbQYr3DGWnD"
      },
      "outputs": [],
      "source": [
        "#  Copyright (c) Microsoft Corporation.\n",
        "#  Licensed under the MIT License."
      ]
    },
    {
      "cell_type": "code",
      "execution_count": 2,
      "metadata": {
        "id": "krk5HJqfGWnF"
      },
      "outputs": [],
      "source": [
        "import sys, site\n",
        "from pathlib import Path\n",
        "\n",
        "################################# NOTE #################################\n",
        "#  Please be aware that if colab installs the latest numpy and pyqlib  #\n",
        "#  in this cell, users should RESTART the runtime in order to run the  #\n",
        "#  following cells successfully.                                       #\n",
        "########################################################################\n",
        "\n",
        "try:\n",
        "    import qlib\n",
        "except ImportError:\n",
        "    # install qlib\n",
        "    ! pip install --upgrade numpy\n",
        "    ! pip install pyqlib\n",
        "    if \"google.colab\" in sys.modules:\n",
        "        # The Google colab environment is a little outdated. We have to downgrade the pyyaml to make it compatible with other packages\n",
        "        ! pip install pyyaml==5.4.1\n",
        "    # reload\n",
        "    site.main()\n",
        "\n",
        "scripts_dir = Path.cwd().parent.joinpath(\"scripts\")\n",
        "if not scripts_dir.joinpath(\"get_data.py\").exists():\n",
        "    # download get_data.py script\n",
        "    scripts_dir = Path(\"~/tmp/qlib_code/scripts\").expanduser().resolve()\n",
        "    scripts_dir.mkdir(parents=True, exist_ok=True)\n",
        "    import requests\n",
        "\n",
        "    with requests.get(\"https://raw.githubusercontent.com/microsoft/qlib/main/scripts/get_data.py\", timeout=10) as resp:\n",
        "        with open(scripts_dir.joinpath(\"get_data.py\"), \"wb\") as fp:\n",
        "            fp.write(resp.content)"
      ]
    },
    {
      "cell_type": "code",
      "execution_count": 3,
      "metadata": {
        "id": "sU7uZ-voGWnH"
      },
      "outputs": [],
      "source": [
        "import qlib\n",
        "import pandas as pd\n",
        "from qlib.constant import REG_CN\n",
        "from qlib.utils import exists_qlib_data, init_instance_by_config\n",
        "from qlib.workflow import R\n",
        "from qlib.workflow.record_temp import SignalRecord, PortAnaRecord\n",
        "from qlib.utils import flatten_dict"
      ]
    },
    {
      "cell_type": "code",
      "execution_count": 4,
      "metadata": {
        "tags": [],
        "colab": {
          "base_uri": "https://localhost:8080/"
        },
        "id": "YT_TmWwzGWnI",
        "outputId": "de17796e-a3fc-4d0d-ab83-868245759f54"
      },
      "outputs": [
        {
          "output_type": "stream",
          "name": "stdout",
          "text": [
            "Qlib data is not found in ~/.qlib/qlib_data/cn_data\n"
          ]
        },
        {
          "output_type": "stream",
          "name": "stderr",
          "text": [
            "\u001b[32m2025-07-16 02:41:57.414\u001b[0m | \u001b[33m\u001b[1mWARNING \u001b[0m | \u001b[36mqlib.tests.data\u001b[0m:\u001b[36mdownload\u001b[0m:\u001b[36m62\u001b[0m - \u001b[33m\u001b[1mThe data for the example is collected from Yahoo Finance. Please be aware that the quality of the data might not be perfect. (You can refer to the original data source: https://finance.yahoo.com/lookup.)\u001b[0m\n",
            "\u001b[32m2025-07-16 02:41:57.416\u001b[0m | \u001b[1mINFO    \u001b[0m | \u001b[36mqlib.tests.data\u001b[0m:\u001b[36mdownload\u001b[0m:\u001b[36m65\u001b[0m - \u001b[1m20250716024157_qlib_data_cn_1d_latest.zip downloading......\u001b[0m\n",
            "196549632it [00:04, 41573709.51it/s]                               \n",
            "\u001b[32m2025-07-16 02:42:02.151\u001b[0m | \u001b[33m\u001b[1mWARNING \u001b[0m | \u001b[36mqlib.tests.data\u001b[0m:\u001b[36m_unzip\u001b[0m:\u001b[36m124\u001b[0m - \u001b[33m\u001b[1mwill delete the old qlib data directory(features, instruments, calendars, features_cache, dataset_cache): /root/.qlib/qlib_data/cn_data\u001b[0m\n",
            "\u001b[32m2025-07-16 02:42:02.152\u001b[0m | \u001b[1mINFO    \u001b[0m | \u001b[36mqlib.tests.data\u001b[0m:\u001b[36m_unzip\u001b[0m:\u001b[36m128\u001b[0m - \u001b[1m/root/.qlib/qlib_data/cn_data/20250716024157_qlib_data_cn_1d_latest.zip unzipping......\u001b[0m\n",
            "100%|██████████| 31008/31008 [00:10<00:00, 2901.96it/s]\n",
            "[769:MainThread](2025-07-16 02:42:13,344) INFO - qlib.Initialization - [config.py:420] - default_conf: client.\n",
            "[769:MainThread](2025-07-16 02:42:13,351) INFO - qlib.Initialization - [__init__.py:74] - qlib successfully initialized based on client settings.\n",
            "[769:MainThread](2025-07-16 02:42:13,353) INFO - qlib.Initialization - [__init__.py:76] - data_path={'__DEFAULT_FREQ': PosixPath('/root/.qlib/qlib_data/cn_data')}\n"
          ]
        }
      ],
      "source": [
        "# use default data\n",
        "# NOTE: need to download data from remote: python scripts/get_data.py qlib_data_cn --target_dir ~/.qlib/qlib_data/cn_data\n",
        "provider_uri = \"~/.qlib/qlib_data/cn_data\"  # target_dir\n",
        "if not exists_qlib_data(provider_uri):\n",
        "    print(f\"Qlib data is not found in {provider_uri}\")\n",
        "    sys.path.append(str(scripts_dir))\n",
        "    from get_data import GetData\n",
        "\n",
        "    GetData().qlib_data(target_dir=provider_uri, region=REG_CN)\n",
        "qlib.init(provider_uri=provider_uri, region=REG_CN)"
      ]
    },
    {
      "cell_type": "code",
      "execution_count": 6,
      "metadata": {
        "id": "8gcA77YDGWnJ"
      },
      "outputs": [],
      "source": [
        "market = \"csi300\"\n",
        "benchmark = \"SH000300\""
      ]
    },
    {
      "cell_type": "markdown",
      "metadata": {
        "id": "d-EPpx3MGWnK"
      },
      "source": [
        "# train model"
      ]
    },
    {
      "cell_type": "code",
      "execution_count": 8,
      "metadata": {
        "tags": [],
        "colab": {
          "base_uri": "https://localhost:8080/"
        },
        "id": "pICD0fuLGWnL",
        "outputId": "e843d568-ce60-4110-c387-1f06c35f043f"
      },
      "outputs": [
        {
          "output_type": "stream",
          "name": "stderr",
          "text": [
            "[769:MainThread](2025-07-16 02:49:24,317) INFO - qlib.timer - [log.py:127] - Time cost: 249.845s | Loading data Done\n",
            "[769:MainThread](2025-07-16 02:49:25,382) INFO - qlib.timer - [log.py:127] - Time cost: 0.347s | DropnaLabel Done\n",
            "[769:MainThread](2025-07-16 02:49:31,214) INFO - qlib.timer - [log.py:127] - Time cost: 5.830s | CSZScoreNorm Done\n",
            "[769:MainThread](2025-07-16 02:49:31,219) INFO - qlib.timer - [log.py:127] - Time cost: 6.899s | fit & process data Done\n",
            "[769:MainThread](2025-07-16 02:49:31,223) INFO - qlib.timer - [log.py:127] - Time cost: 256.751s | Init data Done\n",
            "[769:MainThread](2025-07-16 02:49:31,261) WARNING - qlib.workflow - [expm.py:231] - No valid experiment found. Create a new experiment with name train_model.\n",
            "[769:MainThread](2025-07-16 02:49:31,273) INFO - qlib.workflow - [exp.py:258] - Experiment 683977689854061117 starts running ...\n",
            "[769:MainThread](2025-07-16 02:49:31,706) INFO - qlib.workflow - [recorder.py:345] - Recorder eb841561b3ff458c84aaeaab8a7f4d8b starts running under Experiment 683977689854061117 ...\n",
            "[769:MainThread](2025-07-16 02:49:31,727) INFO - qlib.workflow - [recorder.py:378] - Fail to log the uncommitted code of $CWD(/content) when run git diff.\n",
            "[769:MainThread](2025-07-16 02:49:31,737) INFO - qlib.workflow - [recorder.py:378] - Fail to log the uncommitted code of $CWD(/content) when run git status.\n",
            "[769:MainThread](2025-07-16 02:49:31,757) INFO - qlib.workflow - [recorder.py:378] - Fail to log the uncommitted code of $CWD(/content) when run git diff --cached.\n"
          ]
        },
        {
          "output_type": "stream",
          "name": "stdout",
          "text": [
            "Training until validation scores don't improve for 50 rounds\n",
            "[20]\ttrain's l2: 0.990585\tvalid's l2: 0.99431\n",
            "[40]\ttrain's l2: 0.986931\tvalid's l2: 0.993693\n",
            "[60]\ttrain's l2: 0.984352\tvalid's l2: 0.99349\n",
            "[80]\ttrain's l2: 0.982319\tvalid's l2: 0.993382\n",
            "[100]\ttrain's l2: 0.980442\tvalid's l2: 0.99331\n",
            "[120]\ttrain's l2: 0.97871\tvalid's l2: 0.993247\n",
            "[140]\ttrain's l2: 0.976987\tvalid's l2: 0.993334\n",
            "[160]\ttrain's l2: 0.97536\tvalid's l2: 0.993338\n",
            "Early stopping, best iteration is:\n",
            "[122]\ttrain's l2: 0.978519\tvalid's l2: 0.993238\n"
          ]
        },
        {
          "output_type": "stream",
          "name": "stderr",
          "text": [
            "[769:MainThread](2025-07-16 02:51:46,863) INFO - qlib.timer - [log.py:127] - Time cost: 0.237s | waiting `async_log` Done\n"
          ]
        }
      ],
      "source": [
        "###################################\n",
        "# train model\n",
        "###################################\n",
        "data_handler_config = {\n",
        "    \"start_time\": \"2008-01-01\",\n",
        "    \"end_time\": \"2020-08-01\",\n",
        "    \"fit_start_time\": \"2008-01-01\",\n",
        "    \"fit_end_time\": \"2014-12-31\",\n",
        "    \"instruments\": market,\n",
        "}\n",
        "\n",
        "task = {\n",
        "    \"model\": {\n",
        "        \"class\": \"LGBModel\",\n",
        "        \"module_path\": \"qlib.contrib.model.gbdt\",\n",
        "        \"kwargs\": {\n",
        "            \"loss\": \"mse\",\n",
        "            \"colsample_bytree\": 0.8879,\n",
        "            \"learning_rate\": 0.0421,\n",
        "            \"subsample\": 0.8789,\n",
        "            \"lambda_l1\": 205.6999,\n",
        "            \"lambda_l2\": 580.9768,\n",
        "            \"max_depth\": 8,\n",
        "            \"num_leaves\": 210,\n",
        "            \"num_threads\": 20,\n",
        "        },\n",
        "    },\n",
        "    \"dataset\": {\n",
        "        \"class\": \"DatasetH\",\n",
        "        \"module_path\": \"qlib.data.dataset\",\n",
        "        \"kwargs\": {\n",
        "            \"handler\": {\n",
        "                \"class\": \"Alpha158\",\n",
        "                \"module_path\": \"qlib.contrib.data.handler\",\n",
        "                \"kwargs\": data_handler_config,\n",
        "            },\n",
        "            \"segments\": {\n",
        "                \"train\": (\"2008-01-01\", \"2014-12-31\"),\n",
        "                \"valid\": (\"2015-01-01\", \"2016-12-31\"),\n",
        "                \"test\": (\"2017-01-01\", \"2020-08-01\"),\n",
        "            },\n",
        "        },\n",
        "    },\n",
        "}\n",
        "\n",
        "# model initialization\n",
        "model = init_instance_by_config(task[\"model\"])\n",
        "\n",
        "# Set joblib_backend to sequential as a workaround for the AttributeError\n",
        "from qlib.config import C\n",
        "C.joblib_backend = \"sequential\"\n",
        "\n",
        "dataset = init_instance_by_config(task[\"dataset\"])\n",
        "\n",
        "# start exp to train model\n",
        "with R.start(experiment_name=\"train_model\"):\n",
        "    R.log_params(**flatten_dict(task))\n",
        "    model.fit(dataset)\n",
        "    R.save_objects(trained_model=model)\n",
        "    rid = R.get_recorder().id"
      ]
    },
    {
      "cell_type": "markdown",
      "metadata": {
        "id": "uLBIdoRhGWnL"
      },
      "source": [
        "# prediction, backtest & analysis"
      ]
    },
    {
      "cell_type": "code",
      "execution_count": null,
      "metadata": {
        "tags": [],
        "id": "esks3O15GWnN"
      },
      "outputs": [],
      "source": [
        "###################################\n",
        "# prediction, backtest & analysis\n",
        "###################################\n",
        "port_analysis_config = {\n",
        "    \"executor\": {\n",
        "        \"class\": \"SimulatorExecutor\",\n",
        "        \"module_path\": \"qlib.backtest.executor\",\n",
        "        \"kwargs\": {\n",
        "            \"time_per_step\": \"day\",\n",
        "            \"generate_portfolio_metrics\": True,\n",
        "        },\n",
        "    },\n",
        "    \"strategy\": {\n",
        "        \"class\": \"TopkDropoutStrategy\",\n",
        "        \"module_path\": \"qlib.contrib.strategy.signal_strategy\",\n",
        "        \"kwargs\": {\n",
        "            \"model\": model,\n",
        "            \"dataset\": dataset,\n",
        "            \"topk\": 50,\n",
        "            \"n_drop\": 5,\n",
        "        },\n",
        "    },\n",
        "    \"backtest\": {\n",
        "        \"start_time\": \"2017-01-01\",\n",
        "        \"end_time\": \"2020-08-01\",\n",
        "        \"account\": 100000000,\n",
        "        \"benchmark\": benchmark,\n",
        "        \"exchange_kwargs\": {\n",
        "            \"freq\": \"day\",\n",
        "            \"limit_threshold\": 0.095,\n",
        "            \"deal_price\": \"close\",\n",
        "            \"open_cost\": 0.0005,\n",
        "            \"close_cost\": 0.0015,\n",
        "            \"min_cost\": 5,\n",
        "        },\n",
        "    },\n",
        "}\n",
        "\n",
        "# backtest and analysis\n",
        "with R.start(experiment_name=\"backtest_analysis\"):\n",
        "    recorder = R.get_recorder(recorder_id=rid, experiment_name=\"train_model\")\n",
        "    model = recorder.load_object(\"trained_model\")\n",
        "\n",
        "    # prediction\n",
        "    recorder = R.get_recorder()\n",
        "    ba_rid = recorder.id\n",
        "    sr = SignalRecord(model, dataset, recorder)\n",
        "    sr.generate()\n",
        "\n",
        "    # backtest & analysis\n",
        "    par = PortAnaRecord(recorder, port_analysis_config, \"day\")\n",
        "    par.generate()"
      ]
    },
    {
      "cell_type": "markdown",
      "metadata": {
        "id": "Au3KUWjxGWnO"
      },
      "source": [
        "# analyze graphs"
      ]
    },
    {
      "cell_type": "code",
      "execution_count": null,
      "metadata": {
        "id": "o1oJg7UxGWnO"
      },
      "outputs": [],
      "source": [
        "from qlib.contrib.report import analysis_model, analysis_position\n",
        "from qlib.data import D\n",
        "\n",
        "recorder = R.get_recorder(recorder_id=ba_rid, experiment_name=\"backtest_analysis\")\n",
        "print(recorder)\n",
        "pred_df = recorder.load_object(\"pred.pkl\")\n",
        "report_normal_df = recorder.load_object(\"portfolio_analysis/report_normal_1day.pkl\")\n",
        "positions = recorder.load_object(\"portfolio_analysis/positions_normal_1day.pkl\")\n",
        "analysis_df = recorder.load_object(\"portfolio_analysis/port_analysis_1day.pkl\")"
      ]
    },
    {
      "cell_type": "markdown",
      "metadata": {
        "id": "uL7GULWHGWnP"
      },
      "source": [
        "## analysis position"
      ]
    },
    {
      "cell_type": "markdown",
      "metadata": {
        "id": "WB_tueHZGWnQ"
      },
      "source": [
        "### report"
      ]
    },
    {
      "cell_type": "code",
      "execution_count": null,
      "metadata": {
        "id": "atkG0yUIGWnQ"
      },
      "outputs": [],
      "source": [
        "analysis_position.report_graph(report_normal_df)"
      ]
    },
    {
      "cell_type": "markdown",
      "metadata": {
        "id": "WABr9kHqGWnQ"
      },
      "source": [
        "### risk analysis"
      ]
    },
    {
      "cell_type": "code",
      "execution_count": null,
      "metadata": {
        "id": "SaN73P-FGWnQ"
      },
      "outputs": [],
      "source": [
        "analysis_position.risk_analysis_graph(analysis_df, report_normal_df)"
      ]
    },
    {
      "cell_type": "markdown",
      "metadata": {
        "id": "EBAL2TLgGWnR"
      },
      "source": [
        "## analysis model"
      ]
    },
    {
      "cell_type": "code",
      "execution_count": null,
      "metadata": {
        "id": "89Fi-ItiGWnR"
      },
      "outputs": [],
      "source": [
        "label_df = dataset.prepare(\"test\", col_set=\"label\")\n",
        "label_df.columns = [\"label\"]"
      ]
    },
    {
      "cell_type": "markdown",
      "metadata": {
        "id": "Nz7tSx9FGWnS"
      },
      "source": [
        "### score IC"
      ]
    },
    {
      "cell_type": "code",
      "execution_count": null,
      "metadata": {
        "id": "u02vf7SkGWnS"
      },
      "outputs": [],
      "source": [
        "pred_label = pd.concat([label_df, pred_df], axis=1, sort=True).reindex(label_df.index)\n",
        "analysis_position.score_ic_graph(pred_label)"
      ]
    },
    {
      "cell_type": "markdown",
      "metadata": {
        "id": "Ga5MDe-GGWnS"
      },
      "source": [
        "### model performance"
      ]
    },
    {
      "cell_type": "code",
      "execution_count": null,
      "metadata": {
        "id": "6hZ7e-YmGWnT"
      },
      "outputs": [],
      "source": [
        "analysis_model.model_performance_graph(pred_label)"
      ]
    }
  ],
  "metadata": {
    "kernelspec": {
      "display_name": "Python 3 (ipykernel)",
      "language": "python",
      "name": "python3"
    },
    "language_info": {
      "codemirror_mode": {
        "name": "ipython",
        "version": 3
      },
      "file_extension": ".py",
      "mimetype": "text/x-python",
      "name": "python",
      "nbconvert_exporter": "python",
      "pygments_lexer": "ipython3"
    },
    "toc": {
      "base_numbering": 1,
      "nav_menu": {},
      "number_sections": true,
      "sideBar": true,
      "skip_h1_title": false,
      "title_cell": "Table of Contents",
      "title_sidebar": "Contents",
      "toc_cell": false,
      "toc_position": {},
      "toc_section_display": true,
      "toc_window_display": false
    },
    "colab": {
      "provenance": [],
      "include_colab_link": true
    }
  },
  "nbformat": 4,
  "nbformat_minor": 0
}